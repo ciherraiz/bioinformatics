{
 "cells": [
  {
   "cell_type": "markdown",
   "metadata": {},
   "source": [
    "Cargamos el fichero que contiene la secuencia de nucleótidos"
   ]
  },
  {
   "cell_type": "code",
   "execution_count": 22,
   "metadata": {
    "collapsed": true
   },
   "outputs": [],
   "source": [
    "file = open('files/sequence myoglobin fasta.txt', 'r')"
   ]
  },
  {
   "cell_type": "markdown",
   "metadata": {},
   "source": [
    "Los datos de la secuencia se encuentran almacenados bajo el formato [FASTA](https://es.wikipedia.org/wiki/Formato_FASTA)\n",
    "Esto implica que hay una cabecera que describe la secuencia, y posteriormente comienza la secuencia. Por ejemplo:\n",
    "\n",
    "*>NC_000022.11:c35623354-35606764 Homo sapiens chromosome 22, GRCh38.p7 Primary Assembly\n",
    "GAGCATGTTGGCCTGGTCCTTTGCTAGGTACTGTAGAGCAGGTGAGAGAGTGAGGGGGAAGGACTCCAAA\n",
    "TTAGACCAGTTCTTAGCCATGAAGCAGAGACTCT....*\n",
    "\n"
   ]
  },
  {
   "cell_type": "markdown",
   "metadata": {},
   "source": [
    "Leemos inicialmente la primera línea que contiene la cabecera"
   ]
  },
  {
   "cell_type": "code",
   "execution_count": 23,
   "metadata": {},
   "outputs": [],
   "source": [
    "header = file.readline()"
   ]
  },
  {
   "cell_type": "markdown",
   "metadata": {},
   "source": [
    "Leemos el resto del fichero (solo hay una secuencia en este archivo)"
   ]
  },
  {
   "cell_type": "code",
   "execution_count": 24,
   "metadata": {},
   "outputs": [],
   "source": [
    "body = file.read()"
   ]
  },
  {
   "cell_type": "markdown",
   "metadata": {},
   "source": [
    "Eliminamos los finales de línea (\\n)"
   ]
  },
  {
   "cell_type": "code",
   "execution_count": 25,
   "metadata": {},
   "outputs": [],
   "source": [
    "sequence = body.replace('\\n','')"
   ]
  },
  {
   "cell_type": "code",
   "execution_count": 29,
   "metadata": {},
   "outputs": [
    {
     "data": {
      "text/plain": [
       "16591"
      ]
     },
     "execution_count": 29,
     "metadata": {},
     "output_type": "execute_result"
    }
   ],
   "source": [
    "len(sequence)"
   ]
  },
  {
   "cell_type": "code",
   "execution_count": 27,
   "metadata": {
    "collapsed": true
   },
   "outputs": [],
   "source": [
    "dna_translate = {'A': 'T', 'T': 'A', 'C': 'G', 'G':'C'}\n",
    "complementary = ''\n",
    "for nuc in sequence:\n",
    "  complementary += dna_translate[nuc]"
   ]
  },
  {
   "cell_type": "code",
   "execution_count": 36,
   "metadata": {},
   "outputs": [
    {
     "name": "stdout",
     "output_type": "stream",
     "text": [
      "secuencia original:  GAGCATGTTG\n",
      "secuencia complementaria:  CTCGTACAAC\n",
      "longitud total de la secuencia 16591\n"
     ]
    }
   ],
   "source": [
    "print('secuencia original: ', sequence[0:10])\n",
    "print('secuencia complementaria: ', complementary[0:10])\n",
    "print('longitud total de la secuencia', len(sequence))"
   ]
  },
  {
   "cell_type": "code",
   "execution_count": null,
   "metadata": {
    "collapsed": true
   },
   "outputs": [],
   "source": []
  }
 ],
 "metadata": {
  "kernelspec": {
   "display_name": "Python 3",
   "language": "python",
   "name": "python3"
  },
  "language_info": {
   "codemirror_mode": {
    "name": "ipython",
    "version": 3
   },
   "file_extension": ".py",
   "mimetype": "text/x-python",
   "name": "python",
   "nbconvert_exporter": "python",
   "pygments_lexer": "ipython3",
   "version": "3.6.2"
  }
 },
 "nbformat": 4,
 "nbformat_minor": 2
}
