{
 "cells": [
  {
   "cell_type": "markdown",
   "metadata": {},
   "source": [
    "[Counting DNA Nucleotides](http://rosalind.info/problems/dna/)"
   ]
  },
  {
   "cell_type": "code",
   "execution_count": 3,
   "metadata": {
    "collapsed": true
   },
   "outputs": [],
   "source": [
    "dna = 'AGCTTTTCATTCTGACTGCAACGGGCAATATGTCTCTGTGTGGATTAAAAAAAGAGTGTCTGATAGCAGC'"
   ]
  },
  {
   "cell_type": "code",
   "execution_count": 3,
   "metadata": {},
   "outputs": [
    {
     "name": "stdout",
     "output_type": "stream",
     "text": [
      "A: 20\n",
      "C: 12\n",
      "G: 17\n",
      "T: 21\n"
     ]
    }
   ],
   "source": [
    "nt = ['A', 'C', 'G', 'T']\n",
    "for n in nt:\n",
    "  nt_total = dna.count(n)\n",
    "  print('{}: {}'.format(n, nt_total))\n"
   ]
  },
  {
   "cell_type": "markdown",
   "metadata": {},
   "source": [
    "[Transcribing DNA into RNA](http://rosalind.info/problems/rna/)"
   ]
  },
  {
   "cell_type": "code",
   "execution_count": 4,
   "metadata": {},
   "outputs": [
    {
     "name": "stdout",
     "output_type": "stream",
     "text": [
      "AGCUUUUCAUUCUGACUGCAACGGGCAAUAUGUCUCUGUGUGGAUUAAAAAAAGAGUGUCUGAUAGCAGC\n"
     ]
    }
   ],
   "source": [
    "rna = dna.replace('T','U')\n",
    "print(rna)"
   ]
  },
  {
   "cell_type": "markdown",
   "metadata": {
    "collapsed": true
   },
   "source": [
    "[Complementing a Strand of DNA](http://rosalind.info/problems/revc/)"
   ]
  },
  {
   "cell_type": "code",
   "execution_count": 4,
   "metadata": {},
   "outputs": [
    {
     "name": "stdout",
     "output_type": "stream",
     "text": [
      "GCTGCTATCAGACACTCTTTTTTTAATCCACACAGAGACATATTGCCCGTTGCAGTCAGAATGAAAAGCT\n"
     ]
    }
   ],
   "source": [
    "dna_translate = {'A': 'T', 'T': 'A', 'C': 'G', 'G':'C'}\n",
    "dnarc = ''\n",
    "for nuc in reversed(dna):\n",
    "  dnarc += dna_translate[nuc]\n",
    "\n",
    "print(dnarc)"
   ]
  },
  {
   "cell_type": "markdown",
   "metadata": {},
   "source": [
    "[Rabbits and Recurrence Relations](http://rosalind.info/problems/fib/)"
   ]
  },
  {
   "cell_type": "code",
   "execution_count": 5,
   "metadata": {},
   "outputs": [
    {
     "name": "stdout",
     "output_type": "stream",
     "text": [
      "40\n"
     ]
    }
   ],
   "source": [
    "m = 5\n",
    "k = 3\n",
    "mature = 0\n",
    "inmature = 1\n",
    "\n",
    "for g in range(m):\n",
    "  inmature, mature = mature * k, mature + inmature\n",
    "  pairs = mature + inmature\n",
    "print (pairs)"
   ]
  },
  {
   "cell_type": "markdown",
   "metadata": {},
   "source": [
    "[Mendel's First Law](http://rosalind.info/problems/iprb/)"
   ]
  },
  {
   "cell_type": "code",
   "execution_count": null,
   "metadata": {
    "collapsed": true
   },
   "outputs": [],
   "source": [
    "k = 27\n",
    "m = 20\n",
    "n = 29\n",
    "\n",
    "total = k + m + n\n",
    "\n",
    "pr_nn = (n/total) * ((n-1)/(total-1))\n",
    "pr_mn = (m/total) * ((n)/(total-1))\n",
    "pr_nm = (n/total) * ((m)/(total-1))\n",
    "pr_mm = (m/total) * ((m-1)/(total-1))\n",
    "\n",
    "print(1-(pr_nn + pr_mn * 0.5 + pr_nm * 0.5 + pr_mm * 0.25))"
   ]
  },
  {
   "cell_type": "markdown",
   "metadata": {},
   "source": [
    "[Computing GC Content*](http://rosalind.info/problems/gc/)"
   ]
  },
  {
   "cell_type": "code",
   "execution_count": 61,
   "metadata": {},
   "outputs": [
    {
     "name": "stdout",
     "output_type": "stream",
     "text": [
      "60.91954022988506\n"
     ]
    }
   ],
   "source": [
    "import re\n",
    "gc_file = open('files/rosalind_gc.txt', 'r')\n",
    "gc_strings = gc_file.read().replace('\\n','')\n",
    "groups = re.findall('(>Rosalind_[0-9]{4,4})([ACGT]*)', gc_strings)\n",
    "gc = [(g[0],(g[1].count('C') + g[1].count('G'))/len(g[1])) for g in groups]\n",
    "print(max(gc, key = lambda x: x[1])[1]*100)"
   ]
  },
  {
   "cell_type": "markdown",
   "metadata": {},
   "source": [
    "[Translating RNA into Protein](http://rosalind.info/problems/prot/)"
   ]
  },
  {
   "cell_type": "code",
   "execution_count": 81,
   "metadata": {},
   "outputs": [
    {
     "name": "stdout",
     "output_type": "stream",
     "text": [
      "MAMAPRTEINSTRING\n"
     ]
    }
   ],
   "source": [
    "translation = {'UUU':'F', 'CUU':'L', 'AUU':'I', 'GUU':'V', 'UUC':'F', 'CUC':'L', 'AUC':'I', 'GUC':'V', 'UUA':'L', 'CUA':'L', 'AUA':'I', 'GUA':'V', 'UUG':'L', 'CUG':'L', 'AUG':'M', 'GUG':'V', 'UCU':'S', 'CCU':'P', 'ACU':'T', 'GCU':'A', 'UCC':'S', 'CCC':'P', 'ACC':'T', 'GCC':'A', 'UCA':'S', 'CCA':'P', 'ACA':'T', 'GCA':'A', 'UCG':'S', 'CCG':'P', 'ACG':'T', 'GCG':'A','UAU':'Y', 'CAU':'H', 'AAU':'N', 'GAU':'D', 'UAC':'Y', 'CAC':'H', 'AAC':'N', 'GAC':'D', 'UAA':'Stop', 'CAA':'Q', 'AAA': 'K', 'GAA':'E', 'UAG':'Stop', 'CAG':'Q', 'AAG':'K', 'GAG':'E', 'UGU':'C', 'CGU':'R', 'AGU':'S', 'GGU':'G', 'UGC':'C', 'CGC':'R', 'AGC':'S', 'GGC':'G', 'UGA':'Stop', 'CGA':'R', 'AGA':'R', 'GGA':'G', 'UGG':'W', 'CGG':'R', 'AGG':'R', 'GGG':'G'}\n",
    "rna = 'AUGGCCAUGGCGCCCAGAACUGAGAUCAAUAGUACCCGUAUUAACGGGUGA'\n",
    "translated = ''\n",
    "\n",
    "for i in range(0, len(rna) -3, 3):\n",
    "    codon = rna[i:i+3]\n",
    "    if translation[codon] == 'Stop':\n",
    "        break\n",
    "    translated+= translation[codon]\n",
    "print(translated)"
   ]
  },
  {
   "cell_type": "markdown",
   "metadata": {},
   "source": [
    "[Finding a Motif in DNA](http://rosalind.info/problems/subs/)"
   ]
  },
  {
   "cell_type": "code",
   "execution_count": 88,
   "metadata": {},
   "outputs": [
    {
     "name": "stdout",
     "output_type": "stream",
     "text": [
      "2 4 10 "
     ]
    }
   ],
   "source": [
    "\"\"\"\"Except for zero-length assertion, character in the input will always be consumed in the matching. \n",
    "If you are ever in the case where you want to capture certain character in the input string more the once, \n",
    "you will need zero-length assertion in the regex.\n",
    "\n",
    "(?=...)\n",
    "Matches if ... matches next, but doesn’t consume any of the string. This is called a lookahead assertion\n",
    "\"\"\"\n",
    "\n",
    "import re\n",
    "s = 'GATATATGCATATACTT'\n",
    "t = 'ATAT'\n",
    "for m in re.finditer('(?=(' + t + '))', s):\n",
    "  print(m.start() + 1, end=' ')"
   ]
  },
  {
   "cell_type": "code",
   "execution_count": null,
   "metadata": {
    "collapsed": true
   },
   "outputs": [],
   "source": []
  }
 ],
 "metadata": {
  "kernelspec": {
   "display_name": "Python 3",
   "language": "python",
   "name": "python3"
  },
  "language_info": {
   "codemirror_mode": {
    "name": "ipython",
    "version": 3
   },
   "file_extension": ".py",
   "mimetype": "text/x-python",
   "name": "python",
   "nbconvert_exporter": "python",
   "pygments_lexer": "ipython3",
   "version": "3.6.2"
  }
 },
 "nbformat": 4,
 "nbformat_minor": 2
}
